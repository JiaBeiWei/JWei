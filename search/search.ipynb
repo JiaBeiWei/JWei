{
 "cells": [
  {
   "cell_type": "code",
   "execution_count": 1,
   "metadata": {},
   "outputs": [],
   "source": [
    "from googlesearch import search\n",
    "from bs4 import BeautifulSoup\n",
    "from urllib.request import urlopen\n",
    "import requests\n",
    "import webbrowser "
   ]
  },
  {
   "cell_type": "code",
   "execution_count": 2,
   "metadata": {},
   "outputs": [
    {
     "name": "stdout",
     "output_type": "stream",
     "text": [
      "Hey > amazon\n",
      "OPENED https://www.amazon.com/\n",
      "OPENED https://www.theverge.com/2020/7/15/21326017/amazon-work-from-home-extend-january-2021-corporate\n"
     ]
    }
   ],
   "source": [
    "query = input(\"Hey > \")\n",
    "for j in search(query, tld=\"co.in\", num=10, stop=2, pause=2): \n",
    "    webbrowser.open_new_tab(j)\n",
    "    print(\"OPENED\",j) \n",
    "\n"
   ]
  }
 ],
 "metadata": {
  "kernelspec": {
   "display_name": "Python 3",
   "language": "python",
   "name": "python3"
  },
  "language_info": {
   "codemirror_mode": {
    "name": "ipython",
    "version": 3
   },
   "file_extension": ".py",
   "mimetype": "text/x-python",
   "name": "python",
   "nbconvert_exporter": "python",
   "pygments_lexer": "ipython3",
   "version": "3.8.3"
  }
 },
 "nbformat": 4,
 "nbformat_minor": 4
}
